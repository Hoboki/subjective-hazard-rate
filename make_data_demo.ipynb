{
 "cells": [
  {
   "cell_type": "markdown",
   "metadata": {},
   "source": [
    "# Make response data (DR_Response_demo.csv)"
   ]
  },
  {
   "cell_type": "code",
   "execution_count": 1,
   "metadata": {},
   "outputs": [],
   "source": [
    "import numpy as np\n",
    "import pandas as pd\n",
    "import torch\n",
    "import matplotlib.pyplot as plt\n",
    "import h5py\n",
    "from dots_reversal import DotsReversal\n",
    "from dots_reversal_util import lam2W_H, geometric_mean"
   ]
  },
  {
   "cell_type": "code",
   "execution_count": 2,
   "metadata": {},
   "outputs": [],
   "source": [
    "# Parameters\n",
    "labels = [\"Low\", \"High\"]\n",
    "difficulties = [\"easy\", \"difficult\"]\n",
    "refresh_rate = 60\n",
    "k = 0.5\n",
    "L_range = 10\n",
    "dL = 0.4"
   ]
  },
  {
   "cell_type": "code",
   "execution_count": 3,
   "metadata": {},
   "outputs": [
    {
     "name": "stdout",
     "output_type": "stream",
     "text": [
      "Number of trials: 81 128\n",
      "Geometric Average λ: tensor(0.1992) tensor(3.0053)\n"
     ]
    }
   ],
   "source": [
    "# Get trials\n",
    "trials_param = pd.read_csv(\"../trial_data/trials_param_modulate_hazard_rate.csv\")\n",
    "trials = pd.read_csv(\"../trial_data/trials_modulate_hazard_rate.csv\")\n",
    "trial_mask = ~trials.reversal0.isna() # Mask for trials with at least one reversal\n",
    "trial_mask_low = trial_mask & (trials_param.hazard_rate_state == \"easy\")\n",
    "trial_mask_high = trial_mask & (trials_param.hazard_rate_state == \"difficult\")\n",
    "trials_low = trials[trial_mask_low].reset_index(drop=True)\n",
    "trials_high = trials[trial_mask_high].reset_index(drop=True)\n",
    "print(\"Number of trials:\", trials_low.shape[0], trials_high.shape[0])\n",
    "lam_geomean_low = geometric_mean(torch.from_numpy(trials_low.hazard_rate.values))\n",
    "lam_geomean_high = geometric_mean(torch.from_numpy(trials_high.hazard_rate.values))\n",
    "print(\"Geometric Average λ:\", lam_geomean_low, lam_geomean_high)\n",
    "\n",
    "# Set parameters and optimizer\n",
    "W_H_low = lam2W_H(lam_geomean_low, refresh_rate)\n",
    "W_H_high = lam2W_H(lam_geomean_high, refresh_rate)\n",
    "W_k = torch.log(torch.tensor(k))\n",
    "model_low = DotsReversal(W_H_low, W_k, trials_low, refresh_rate, L_range, dL, requires_grad = False)\n",
    "model_high = DotsReversal(W_H_high, W_k, trials_high, refresh_rate, L_range, dL, requires_grad = False)\n",
    "responses = torch.zeros(trials.shape[0])\n",
    "loss = 0\n",
    "for i_env in range(len(labels)):\n",
    "    label = labels[i_env]\n",
    "    difficulty = difficulties[i_env]\n",
    "    model = [model_low, model_high][i_env]\n",
    "    pL_right_trials = model.predict()\n",
    "    trial_env_mask = trial_mask & (trials_param.hazard_rate_state == difficulty)\n",
    "    responses[trial_env_mask] = (0.5 <= pL_right_trials).type(torch.float)\n",
    "    loss = loss + model.loss(pL_right_trials, responses[trial_env_mask]).mean()\n",
    "\n",
    "responses_demo = responses.detach().numpy().astype(str)\n",
    "responses_demo[responses_demo == \"0.0\"] = \"f\"\n",
    "responses_demo[responses_demo == \"1.0\"] = \"j\"\n",
    "assert np.all(np.isin(responses_demo, [\"f\", \"j\"]))\n",
    "subject_ids = np.zeros(trials.shape[0]).astype(int)\n",
    "trial_ids = np.arange(trials.shape[0]) + 1\n",
    "df = pd.DataFrame({\"subject_id\": subject_ids, \"trial_id\": trial_ids, \"response\": responses_demo})\n",
    "df.to_csv(\"DR_Response_demo.csv\", index=False)"
   ]
  },
  {
   "cell_type": "code",
   "execution_count": null,
   "metadata": {},
   "outputs": [],
   "source": []
  }
 ],
 "metadata": {
  "kernelspec": {
   "display_name": "Python 3",
   "language": "python",
   "name": "python3"
  },
  "language_info": {
   "codemirror_mode": {
    "name": "ipython",
    "version": 3
   },
   "file_extension": ".py",
   "mimetype": "text/x-python",
   "name": "python",
   "nbconvert_exporter": "python",
   "pygments_lexer": "ipython3",
   "version": "3.11.10"
  }
 },
 "nbformat": 4,
 "nbformat_minor": 2
}
